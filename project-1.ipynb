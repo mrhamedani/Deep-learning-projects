{
 "cells": [
  {
   "cell_type": "code",
   "execution_count": 1,
   "id": "075f3ae6",
   "metadata": {
    "_cell_guid": "b1076dfc-b9ad-4769-8c92-a6c4dae69d19",
    "_uuid": "8f2839f25d086af736a60e9eeb907d3b93b6e0e5",
    "execution": {
     "iopub.execute_input": "2024-12-23T16:56:39.814470Z",
     "iopub.status.busy": "2024-12-23T16:56:39.813040Z",
     "iopub.status.idle": "2024-12-23T16:56:42.162056Z",
     "shell.execute_reply": "2024-12-23T16:56:42.160337Z"
    },
    "papermill": {
     "duration": 2.356586,
     "end_time": "2024-12-23T16:56:42.164327",
     "exception": false,
     "start_time": "2024-12-23T16:56:39.807741",
     "status": "completed"
    },
    "tags": []
   },
   "outputs": [
    {
     "name": "stdout",
     "output_type": "stream",
     "text": [
      "/kaggle/input/house-prices/house-prices.csv\n"
     ]
    }
   ],
   "source": [
    "import numpy as np \n",
    "import pandas as pd \n",
    "from sklearn.linear_model import LinearRegression\n",
    "from sklearn.model_selection import train_test_split\n",
    "from sklearn.metrics import mean_squared_error\n",
    "\n",
    "import os\n",
    "for dirname, _, filenames in os.walk('/kaggle/input'):\n",
    "    for filename in filenames:\n",
    "        print(os.path.join(dirname, filename))\n"
   ]
  },
  {
   "cell_type": "markdown",
   "id": "8834a1d3",
   "metadata": {
    "papermill": {
     "duration": 0.002499,
     "end_time": "2024-12-23T16:56:42.169826",
     "exception": false,
     "start_time": "2024-12-23T16:56:42.167327",
     "status": "completed"
    },
    "tags": []
   },
   "source": [
    "# Example: housing price prediction using square footage and bedrooms and bathrooms, evaluation with std"
   ]
  },
  {
   "cell_type": "code",
   "execution_count": 2,
   "id": "e5a46cbf",
   "metadata": {
    "execution": {
     "iopub.execute_input": "2024-12-23T16:56:42.176945Z",
     "iopub.status.busy": "2024-12-23T16:56:42.176419Z",
     "iopub.status.idle": "2024-12-23T16:56:42.272691Z",
     "shell.execute_reply": "2024-12-23T16:56:42.271425Z"
    },
    "papermill": {
     "duration": 0.102712,
     "end_time": "2024-12-23T16:56:42.275206",
     "exception": false,
     "start_time": "2024-12-23T16:56:42.172494",
     "status": "completed"
    },
    "tags": []
   },
   "outputs": [],
   "source": [
    "file_path = '/kaggle/input/house-prices/house-prices.csv'  \n",
    "p = pd.read_csv(file_path)\n",
    "\n"
   ]
  },
  {
   "cell_type": "code",
   "execution_count": 3,
   "id": "058ad4ce",
   "metadata": {
    "execution": {
     "iopub.execute_input": "2024-12-23T16:56:42.282319Z",
     "iopub.status.busy": "2024-12-23T16:56:42.281902Z",
     "iopub.status.idle": "2024-12-23T16:56:42.301451Z",
     "shell.execute_reply": "2024-12-23T16:56:42.300303Z"
    },
    "papermill": {
     "duration": 0.025791,
     "end_time": "2024-12-23T16:56:42.303869",
     "exception": false,
     "start_time": "2024-12-23T16:56:42.278078",
     "status": "completed"
    },
    "tags": []
   },
   "outputs": [],
   "source": [
    "target= p[\"Price\"]\n",
    "feature = p[[\"SqFt\",\"Bedrooms\",\"Bathrooms\"]]\n",
    "x_train,x_test,y_train,y_test=train_test_split(feature,target,test_size=0.33,shuffle=False)\n"
   ]
  },
  {
   "cell_type": "code",
   "execution_count": 4,
   "id": "d14892ef",
   "metadata": {
    "execution": {
     "iopub.execute_input": "2024-12-23T16:56:42.311457Z",
     "iopub.status.busy": "2024-12-23T16:56:42.311039Z",
     "iopub.status.idle": "2024-12-23T16:56:42.342985Z",
     "shell.execute_reply": "2024-12-23T16:56:42.341383Z"
    },
    "papermill": {
     "duration": 0.03865,
     "end_time": "2024-12-23T16:56:42.345578",
     "exception": false,
     "start_time": "2024-12-23T16:56:42.306928",
     "status": "completed"
    },
    "tags": []
   },
   "outputs": [
    {
     "data": {
      "text/html": [
       "<style>#sk-container-id-1 {color: black;background-color: white;}#sk-container-id-1 pre{padding: 0;}#sk-container-id-1 div.sk-toggleable {background-color: white;}#sk-container-id-1 label.sk-toggleable__label {cursor: pointer;display: block;width: 100%;margin-bottom: 0;padding: 0.3em;box-sizing: border-box;text-align: center;}#sk-container-id-1 label.sk-toggleable__label-arrow:before {content: \"▸\";float: left;margin-right: 0.25em;color: #696969;}#sk-container-id-1 label.sk-toggleable__label-arrow:hover:before {color: black;}#sk-container-id-1 div.sk-estimator:hover label.sk-toggleable__label-arrow:before {color: black;}#sk-container-id-1 div.sk-toggleable__content {max-height: 0;max-width: 0;overflow: hidden;text-align: left;background-color: #f0f8ff;}#sk-container-id-1 div.sk-toggleable__content pre {margin: 0.2em;color: black;border-radius: 0.25em;background-color: #f0f8ff;}#sk-container-id-1 input.sk-toggleable__control:checked~div.sk-toggleable__content {max-height: 200px;max-width: 100%;overflow: auto;}#sk-container-id-1 input.sk-toggleable__control:checked~label.sk-toggleable__label-arrow:before {content: \"▾\";}#sk-container-id-1 div.sk-estimator input.sk-toggleable__control:checked~label.sk-toggleable__label {background-color: #d4ebff;}#sk-container-id-1 div.sk-label input.sk-toggleable__control:checked~label.sk-toggleable__label {background-color: #d4ebff;}#sk-container-id-1 input.sk-hidden--visually {border: 0;clip: rect(1px 1px 1px 1px);clip: rect(1px, 1px, 1px, 1px);height: 1px;margin: -1px;overflow: hidden;padding: 0;position: absolute;width: 1px;}#sk-container-id-1 div.sk-estimator {font-family: monospace;background-color: #f0f8ff;border: 1px dotted black;border-radius: 0.25em;box-sizing: border-box;margin-bottom: 0.5em;}#sk-container-id-1 div.sk-estimator:hover {background-color: #d4ebff;}#sk-container-id-1 div.sk-parallel-item::after {content: \"\";width: 100%;border-bottom: 1px solid gray;flex-grow: 1;}#sk-container-id-1 div.sk-label:hover label.sk-toggleable__label {background-color: #d4ebff;}#sk-container-id-1 div.sk-serial::before {content: \"\";position: absolute;border-left: 1px solid gray;box-sizing: border-box;top: 0;bottom: 0;left: 50%;z-index: 0;}#sk-container-id-1 div.sk-serial {display: flex;flex-direction: column;align-items: center;background-color: white;padding-right: 0.2em;padding-left: 0.2em;position: relative;}#sk-container-id-1 div.sk-item {position: relative;z-index: 1;}#sk-container-id-1 div.sk-parallel {display: flex;align-items: stretch;justify-content: center;background-color: white;position: relative;}#sk-container-id-1 div.sk-item::before, #sk-container-id-1 div.sk-parallel-item::before {content: \"\";position: absolute;border-left: 1px solid gray;box-sizing: border-box;top: 0;bottom: 0;left: 50%;z-index: -1;}#sk-container-id-1 div.sk-parallel-item {display: flex;flex-direction: column;z-index: 1;position: relative;background-color: white;}#sk-container-id-1 div.sk-parallel-item:first-child::after {align-self: flex-end;width: 50%;}#sk-container-id-1 div.sk-parallel-item:last-child::after {align-self: flex-start;width: 50%;}#sk-container-id-1 div.sk-parallel-item:only-child::after {width: 0;}#sk-container-id-1 div.sk-dashed-wrapped {border: 1px dashed gray;margin: 0 0.4em 0.5em 0.4em;box-sizing: border-box;padding-bottom: 0.4em;background-color: white;}#sk-container-id-1 div.sk-label label {font-family: monospace;font-weight: bold;display: inline-block;line-height: 1.2em;}#sk-container-id-1 div.sk-label-container {text-align: center;}#sk-container-id-1 div.sk-container {/* jupyter's `normalize.less` sets `[hidden] { display: none; }` but bootstrap.min.css set `[hidden] { display: none !important; }` so we also need the `!important` here to be able to override the default hidden behavior on the sphinx rendered scikit-learn.org. See: https://github.com/scikit-learn/scikit-learn/issues/21755 */display: inline-block !important;position: relative;}#sk-container-id-1 div.sk-text-repr-fallback {display: none;}</style><div id=\"sk-container-id-1\" class=\"sk-top-container\"><div class=\"sk-text-repr-fallback\"><pre>LinearRegression()</pre><b>In a Jupyter environment, please rerun this cell to show the HTML representation or trust the notebook. <br />On GitHub, the HTML representation is unable to render, please try loading this page with nbviewer.org.</b></div><div class=\"sk-container\" hidden><div class=\"sk-item\"><div class=\"sk-estimator sk-toggleable\"><input class=\"sk-toggleable__control sk-hidden--visually\" id=\"sk-estimator-id-1\" type=\"checkbox\" checked><label for=\"sk-estimator-id-1\" class=\"sk-toggleable__label sk-toggleable__label-arrow\">LinearRegression</label><div class=\"sk-toggleable__content\"><pre>LinearRegression()</pre></div></div></div></div></div>"
      ],
      "text/plain": [
       "LinearRegression()"
      ]
     },
     "execution_count": 4,
     "metadata": {},
     "output_type": "execute_result"
    }
   ],
   "source": [
    "lin_reg=LinearRegression()\n",
    "lin_reg.fit(x_train,y_train)\n"
   ]
  },
  {
   "cell_type": "code",
   "execution_count": 5,
   "id": "7c26de45",
   "metadata": {
    "execution": {
     "iopub.execute_input": "2024-12-23T16:56:42.353665Z",
     "iopub.status.busy": "2024-12-23T16:56:42.353207Z",
     "iopub.status.idle": "2024-12-23T16:56:42.361384Z",
     "shell.execute_reply": "2024-12-23T16:56:42.359942Z"
    },
    "papermill": {
     "duration": 0.015159,
     "end_time": "2024-12-23T16:56:42.363872",
     "exception": false,
     "start_time": "2024-12-23T16:56:42.348713",
     "status": "completed"
    },
    "tags": []
   },
   "outputs": [],
   "source": [
    "y_predict=lin_reg.predict(x_test)\n",
    "mse=mean_squared_error(y_predict,y_test)\n",
    "std_test=np.sqrt(mse)"
   ]
  },
  {
   "cell_type": "code",
   "execution_count": 6,
   "id": "5afe402d",
   "metadata": {
    "execution": {
     "iopub.execute_input": "2024-12-23T16:56:42.371681Z",
     "iopub.status.busy": "2024-12-23T16:56:42.371287Z",
     "iopub.status.idle": "2024-12-23T16:56:42.385112Z",
     "shell.execute_reply": "2024-12-23T16:56:42.383930Z"
    },
    "papermill": {
     "duration": 0.020441,
     "end_time": "2024-12-23T16:56:42.387454",
     "exception": false,
     "start_time": "2024-12-23T16:56:42.367013",
     "status": "completed"
    },
    "tags": []
   },
   "outputs": [
    {
     "name": "stdout",
     "output_type": "stream",
     "text": [
      "Standard Deviation total: 26868.770370734055 & Standard Deviation Test:21919.174288659113 \n"
     ]
    }
   ],
   "source": [
    "desc = target.describe()\n",
    "std_value = desc['std']\n",
    "print(f\"Standard Deviation total: {std_value} & Standard Deviation Test:{std_test} \")"
   ]
  },
  {
   "cell_type": "markdown",
   "id": "1ee5e080",
   "metadata": {
    "papermill": {
     "duration": 0.002688,
     "end_time": "2024-12-23T16:56:42.393132",
     "exception": false,
     "start_time": "2024-12-23T16:56:42.390444",
     "status": "completed"
    },
    "tags": []
   },
   "source": [
    "# Result: The closer the standard deviation total and test are, the better"
   ]
  },
  {
   "cell_type": "code",
   "execution_count": 7,
   "id": "faa7fe2d",
   "metadata": {
    "execution": {
     "iopub.execute_input": "2024-12-23T16:56:42.401539Z",
     "iopub.status.busy": "2024-12-23T16:56:42.401153Z",
     "iopub.status.idle": "2024-12-23T16:56:42.411294Z",
     "shell.execute_reply": "2024-12-23T16:56:42.410081Z"
    },
    "papermill": {
     "duration": 0.017495,
     "end_time": "2024-12-23T16:56:42.413461",
     "exception": false,
     "start_time": "2024-12-23T16:56:42.395966",
     "status": "completed"
    },
    "tags": []
   },
   "outputs": [
    {
     "name": "stdout",
     "output_type": "stream",
     "text": [
      "The submission file has been created successfully!\n"
     ]
    }
   ],
   "source": [
    "submission = pd.DataFrame({'SalePrice real': y_test, 'SalePrice predict': y_predict})\n",
    "submission.to_csv('/kaggle/working/submission.csv')\n",
    "print(\"The submission file has been created successfully!\")"
   ]
  },
  {
   "cell_type": "code",
   "execution_count": null,
   "id": "e695ffac",
   "metadata": {
    "papermill": {
     "duration": 0.003056,
     "end_time": "2024-12-23T16:56:42.419829",
     "exception": false,
     "start_time": "2024-12-23T16:56:42.416773",
     "status": "completed"
    },
    "tags": []
   },
   "outputs": [],
   "source": []
  }
 ],
 "metadata": {
  "kaggle": {
   "accelerator": "none",
   "dataSources": [
    {
     "datasetId": 6279465,
     "sourceId": 10168192,
     "sourceType": "datasetVersion"
    }
   ],
   "dockerImageVersionId": 30804,
   "isGpuEnabled": false,
   "isInternetEnabled": false,
   "language": "python",
   "sourceType": "notebook"
  },
  "kernelspec": {
   "display_name": "Python 3",
   "language": "python",
   "name": "python3"
  },
  "language_info": {
   "codemirror_mode": {
    "name": "ipython",
    "version": 3
   },
   "file_extension": ".py",
   "mimetype": "text/x-python",
   "name": "python",
   "nbconvert_exporter": "python",
   "pygments_lexer": "ipython3",
   "version": "3.10.14"
  },
  "papermill": {
   "default_parameters": {},
   "duration": 6.445099,
   "end_time": "2024-12-23T16:56:43.045613",
   "environment_variables": {},
   "exception": null,
   "input_path": "__notebook__.ipynb",
   "output_path": "__notebook__.ipynb",
   "parameters": {},
   "start_time": "2024-12-23T16:56:36.600514",
   "version": "2.6.0"
  }
 },
 "nbformat": 4,
 "nbformat_minor": 5
}
