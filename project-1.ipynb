{
 "cells": [
  {
   "cell_type": "code",
   "execution_count": 1,
   "id": "9bc87204",
   "metadata": {
    "_cell_guid": "b1076dfc-b9ad-4769-8c92-a6c4dae69d19",
    "_uuid": "8f2839f25d086af736a60e9eeb907d3b93b6e0e5",
    "execution": {
     "iopub.execute_input": "2024-12-23T16:45:24.907880Z",
     "iopub.status.busy": "2024-12-23T16:45:24.906574Z",
     "iopub.status.idle": "2024-12-23T16:45:27.380108Z",
     "shell.execute_reply": "2024-12-23T16:45:27.378837Z"
    },
    "papermill": {
     "duration": 2.481119,
     "end_time": "2024-12-23T16:45:27.382823",
     "exception": false,
     "start_time": "2024-12-23T16:45:24.901704",
     "status": "completed"
    },
    "tags": []
   },
   "outputs": [
    {
     "name": "stdout",
     "output_type": "stream",
     "text": [
      "/kaggle/input/house-prices/house-prices.csv\n"
     ]
    }
   ],
   "source": [
    "import numpy as np \n",
    "import pandas as pd \n",
    "from sklearn.linear_model import LinearRegression\n",
    "from sklearn.model_selection import train_test_split\n",
    "from sklearn.metrics import mean_squared_error\n",
    "\n",
    "import os\n",
    "for dirname, _, filenames in os.walk('/kaggle/input'):\n",
    "    for filename in filenames:\n",
    "        print(os.path.join(dirname, filename))\n"
   ]
  },
  {
   "cell_type": "markdown",
   "id": "af7053b0",
   "metadata": {
    "papermill": {
     "duration": 0.00243,
     "end_time": "2024-12-23T16:45:27.388518",
     "exception": false,
     "start_time": "2024-12-23T16:45:27.386088",
     "status": "completed"
    },
    "tags": []
   },
   "source": [
    "# Example: housing price prediction using square footage and bedrooms and bathrooms, evaluation with std"
   ]
  },
  {
   "cell_type": "code",
   "execution_count": 2,
   "id": "42b6b4cf",
   "metadata": {
    "execution": {
     "iopub.execute_input": "2024-12-23T16:45:27.395745Z",
     "iopub.status.busy": "2024-12-23T16:45:27.395142Z",
     "iopub.status.idle": "2024-12-23T16:45:27.536887Z",
     "shell.execute_reply": "2024-12-23T16:45:27.535512Z"
    },
    "papermill": {
     "duration": 0.148751,
     "end_time": "2024-12-23T16:45:27.539891",
     "exception": false,
     "start_time": "2024-12-23T16:45:27.391140",
     "status": "completed"
    },
    "tags": []
   },
   "outputs": [],
   "source": [
    "file_path = '/kaggle/input/house-prices/house-prices.csv'  \n",
    "p = pd.read_csv(file_path)\n",
    "\n"
   ]
  },
  {
   "cell_type": "code",
   "execution_count": 3,
   "id": "58b14497",
   "metadata": {
    "execution": {
     "iopub.execute_input": "2024-12-23T16:45:27.547626Z",
     "iopub.status.busy": "2024-12-23T16:45:27.547150Z",
     "iopub.status.idle": "2024-12-23T16:45:27.567807Z",
     "shell.execute_reply": "2024-12-23T16:45:27.566679Z"
    },
    "papermill": {
     "duration": 0.027728,
     "end_time": "2024-12-23T16:45:27.570608",
     "exception": false,
     "start_time": "2024-12-23T16:45:27.542880",
     "status": "completed"
    },
    "tags": []
   },
   "outputs": [],
   "source": [
    "target= p[\"Price\"]\n",
    "feature = p[[\"SqFt\",\"Bedrooms\",\"Bathrooms\"]]\n",
    "x_train,x_test,y_train,y_test=train_test_split(feature,target,test_size=0.33,shuffle=False)\n"
   ]
  },
  {
   "cell_type": "code",
   "execution_count": 4,
   "id": "8dee248f",
   "metadata": {
    "execution": {
     "iopub.execute_input": "2024-12-23T16:45:27.578387Z",
     "iopub.status.busy": "2024-12-23T16:45:27.577821Z",
     "iopub.status.idle": "2024-12-23T16:45:27.614821Z",
     "shell.execute_reply": "2024-12-23T16:45:27.613328Z"
    },
    "papermill": {
     "duration": 0.043707,
     "end_time": "2024-12-23T16:45:27.617322",
     "exception": false,
     "start_time": "2024-12-23T16:45:27.573615",
     "status": "completed"
    },
    "tags": []
   },
   "outputs": [
    {
     "data": {
      "text/html": [
       "<style>#sk-container-id-1 {color: black;background-color: white;}#sk-container-id-1 pre{padding: 0;}#sk-container-id-1 div.sk-toggleable {background-color: white;}#sk-container-id-1 label.sk-toggleable__label {cursor: pointer;display: block;width: 100%;margin-bottom: 0;padding: 0.3em;box-sizing: border-box;text-align: center;}#sk-container-id-1 label.sk-toggleable__label-arrow:before {content: \"▸\";float: left;margin-right: 0.25em;color: #696969;}#sk-container-id-1 label.sk-toggleable__label-arrow:hover:before {color: black;}#sk-container-id-1 div.sk-estimator:hover label.sk-toggleable__label-arrow:before {color: black;}#sk-container-id-1 div.sk-toggleable__content {max-height: 0;max-width: 0;overflow: hidden;text-align: left;background-color: #f0f8ff;}#sk-container-id-1 div.sk-toggleable__content pre {margin: 0.2em;color: black;border-radius: 0.25em;background-color: #f0f8ff;}#sk-container-id-1 input.sk-toggleable__control:checked~div.sk-toggleable__content {max-height: 200px;max-width: 100%;overflow: auto;}#sk-container-id-1 input.sk-toggleable__control:checked~label.sk-toggleable__label-arrow:before {content: \"▾\";}#sk-container-id-1 div.sk-estimator input.sk-toggleable__control:checked~label.sk-toggleable__label {background-color: #d4ebff;}#sk-container-id-1 div.sk-label input.sk-toggleable__control:checked~label.sk-toggleable__label {background-color: #d4ebff;}#sk-container-id-1 input.sk-hidden--visually {border: 0;clip: rect(1px 1px 1px 1px);clip: rect(1px, 1px, 1px, 1px);height: 1px;margin: -1px;overflow: hidden;padding: 0;position: absolute;width: 1px;}#sk-container-id-1 div.sk-estimator {font-family: monospace;background-color: #f0f8ff;border: 1px dotted black;border-radius: 0.25em;box-sizing: border-box;margin-bottom: 0.5em;}#sk-container-id-1 div.sk-estimator:hover {background-color: #d4ebff;}#sk-container-id-1 div.sk-parallel-item::after {content: \"\";width: 100%;border-bottom: 1px solid gray;flex-grow: 1;}#sk-container-id-1 div.sk-label:hover label.sk-toggleable__label {background-color: #d4ebff;}#sk-container-id-1 div.sk-serial::before {content: \"\";position: absolute;border-left: 1px solid gray;box-sizing: border-box;top: 0;bottom: 0;left: 50%;z-index: 0;}#sk-container-id-1 div.sk-serial {display: flex;flex-direction: column;align-items: center;background-color: white;padding-right: 0.2em;padding-left: 0.2em;position: relative;}#sk-container-id-1 div.sk-item {position: relative;z-index: 1;}#sk-container-id-1 div.sk-parallel {display: flex;align-items: stretch;justify-content: center;background-color: white;position: relative;}#sk-container-id-1 div.sk-item::before, #sk-container-id-1 div.sk-parallel-item::before {content: \"\";position: absolute;border-left: 1px solid gray;box-sizing: border-box;top: 0;bottom: 0;left: 50%;z-index: -1;}#sk-container-id-1 div.sk-parallel-item {display: flex;flex-direction: column;z-index: 1;position: relative;background-color: white;}#sk-container-id-1 div.sk-parallel-item:first-child::after {align-self: flex-end;width: 50%;}#sk-container-id-1 div.sk-parallel-item:last-child::after {align-self: flex-start;width: 50%;}#sk-container-id-1 div.sk-parallel-item:only-child::after {width: 0;}#sk-container-id-1 div.sk-dashed-wrapped {border: 1px dashed gray;margin: 0 0.4em 0.5em 0.4em;box-sizing: border-box;padding-bottom: 0.4em;background-color: white;}#sk-container-id-1 div.sk-label label {font-family: monospace;font-weight: bold;display: inline-block;line-height: 1.2em;}#sk-container-id-1 div.sk-label-container {text-align: center;}#sk-container-id-1 div.sk-container {/* jupyter's `normalize.less` sets `[hidden] { display: none; }` but bootstrap.min.css set `[hidden] { display: none !important; }` so we also need the `!important` here to be able to override the default hidden behavior on the sphinx rendered scikit-learn.org. See: https://github.com/scikit-learn/scikit-learn/issues/21755 */display: inline-block !important;position: relative;}#sk-container-id-1 div.sk-text-repr-fallback {display: none;}</style><div id=\"sk-container-id-1\" class=\"sk-top-container\"><div class=\"sk-text-repr-fallback\"><pre>LinearRegression()</pre><b>In a Jupyter environment, please rerun this cell to show the HTML representation or trust the notebook. <br />On GitHub, the HTML representation is unable to render, please try loading this page with nbviewer.org.</b></div><div class=\"sk-container\" hidden><div class=\"sk-item\"><div class=\"sk-estimator sk-toggleable\"><input class=\"sk-toggleable__control sk-hidden--visually\" id=\"sk-estimator-id-1\" type=\"checkbox\" checked><label for=\"sk-estimator-id-1\" class=\"sk-toggleable__label sk-toggleable__label-arrow\">LinearRegression</label><div class=\"sk-toggleable__content\"><pre>LinearRegression()</pre></div></div></div></div></div>"
      ],
      "text/plain": [
       "LinearRegression()"
      ]
     },
     "execution_count": 4,
     "metadata": {},
     "output_type": "execute_result"
    }
   ],
   "source": [
    "lin_reg=LinearRegression()\n",
    "lin_reg.fit(x_train,y_train)\n"
   ]
  },
  {
   "cell_type": "code",
   "execution_count": 5,
   "id": "2b89e21d",
   "metadata": {
    "execution": {
     "iopub.execute_input": "2024-12-23T16:45:27.625173Z",
     "iopub.status.busy": "2024-12-23T16:45:27.624763Z",
     "iopub.status.idle": "2024-12-23T16:45:27.633294Z",
     "shell.execute_reply": "2024-12-23T16:45:27.631921Z"
    },
    "papermill": {
     "duration": 0.015479,
     "end_time": "2024-12-23T16:45:27.635914",
     "exception": false,
     "start_time": "2024-12-23T16:45:27.620435",
     "status": "completed"
    },
    "tags": []
   },
   "outputs": [],
   "source": [
    "y_predict=lin_reg.predict(x_test)\n",
    "mse=mean_squared_error(y_predict,y_test)\n",
    "std_test=np.sqrt(mse)"
   ]
  },
  {
   "cell_type": "code",
   "execution_count": 6,
   "id": "68a15d51",
   "metadata": {
    "execution": {
     "iopub.execute_input": "2024-12-23T16:45:27.643828Z",
     "iopub.status.busy": "2024-12-23T16:45:27.643414Z",
     "iopub.status.idle": "2024-12-23T16:45:27.659860Z",
     "shell.execute_reply": "2024-12-23T16:45:27.657929Z"
    },
    "papermill": {
     "duration": 0.023594,
     "end_time": "2024-12-23T16:45:27.662639",
     "exception": false,
     "start_time": "2024-12-23T16:45:27.639045",
     "status": "completed"
    },
    "tags": []
   },
   "outputs": [
    {
     "name": "stdout",
     "output_type": "stream",
     "text": [
      "Standard Deviation total: 26868.770370734055 & Standard Deviation Test:21919.174288659113 \n"
     ]
    }
   ],
   "source": [
    "desc = target.describe()\n",
    "std_value = desc['std']\n",
    "print(f\"Standard Deviation total: {std_value} & Standard Deviation Test:{std_test} \")"
   ]
  },
  {
   "cell_type": "markdown",
   "id": "a64893c8",
   "metadata": {
    "papermill": {
     "duration": 0.00546,
     "end_time": "2024-12-23T16:45:27.672508",
     "exception": false,
     "start_time": "2024-12-23T16:45:27.667048",
     "status": "completed"
    },
    "tags": []
   },
   "source": [
    "# Result: The closer the standard deviation total and test are, the better"
   ]
  }
 ],
 "metadata": {
  "kaggle": {
   "accelerator": "none",
   "dataSources": [
    {
     "datasetId": 6279465,
     "sourceId": 10168192,
     "sourceType": "datasetVersion"
    }
   ],
   "dockerImageVersionId": 30804,
   "isGpuEnabled": false,
   "isInternetEnabled": false,
   "language": "python",
   "sourceType": "notebook"
  },
  "kernelspec": {
   "display_name": "Python 3",
   "language": "python",
   "name": "python3"
  },
  "language_info": {
   "codemirror_mode": {
    "name": "ipython",
    "version": 3
   },
   "file_extension": ".py",
   "mimetype": "text/x-python",
   "name": "python",
   "nbconvert_exporter": "python",
   "pygments_lexer": "ipython3",
   "version": "3.10.14"
  },
  "papermill": {
   "default_parameters": {},
   "duration": 6.874626,
   "end_time": "2024-12-23T16:45:28.399891",
   "environment_variables": {},
   "exception": null,
   "input_path": "__notebook__.ipynb",
   "output_path": "__notebook__.ipynb",
   "parameters": {},
   "start_time": "2024-12-23T16:45:21.525265",
   "version": "2.6.0"
  }
 },
 "nbformat": 4,
 "nbformat_minor": 5
}
