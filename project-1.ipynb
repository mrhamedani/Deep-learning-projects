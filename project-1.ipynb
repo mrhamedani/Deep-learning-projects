{
 "cells": [
  {
   "cell_type": "code",
   "execution_count": 1,
   "id": "bbe268da",
   "metadata": {
    "_cell_guid": "b1076dfc-b9ad-4769-8c92-a6c4dae69d19",
    "_uuid": "8f2839f25d086af736a60e9eeb907d3b93b6e0e5",
    "execution": {
     "iopub.execute_input": "2024-12-23T16:59:48.050719Z",
     "iopub.status.busy": "2024-12-23T16:59:48.050323Z",
     "iopub.status.idle": "2024-12-23T16:59:50.755342Z",
     "shell.execute_reply": "2024-12-23T16:59:50.753699Z"
    },
    "papermill": {
     "duration": 2.714603,
     "end_time": "2024-12-23T16:59:50.759509",
     "exception": false,
     "start_time": "2024-12-23T16:59:48.044906",
     "status": "completed"
    },
    "tags": []
   },
   "outputs": [
    {
     "name": "stdout",
     "output_type": "stream",
     "text": [
      "/kaggle/input/house-prices/house-prices.csv\n"
     ]
    }
   ],
   "source": [
    "import numpy as np \n",
    "import pandas as pd \n",
    "from sklearn.linear_model import LinearRegression\n",
    "from sklearn.model_selection import train_test_split\n",
    "from sklearn.metrics import mean_squared_error\n",
    "\n",
    "import os\n",
    "for dirname, _, filenames in os.walk('/kaggle/input'):\n",
    "    for filename in filenames:\n",
    "        print(os.path.join(dirname, filename))\n"
   ]
  },
  {
   "cell_type": "markdown",
   "id": "a9ac77c2",
   "metadata": {
    "papermill": {
     "duration": 0.003997,
     "end_time": "2024-12-23T16:59:50.768031",
     "exception": false,
     "start_time": "2024-12-23T16:59:50.764034",
     "status": "completed"
    },
    "tags": []
   },
   "source": [
    "# Example: housing price prediction using square footage and bedrooms and bathrooms, evaluation with std"
   ]
  },
  {
   "cell_type": "code",
   "execution_count": 2,
   "id": "0150447d",
   "metadata": {
    "execution": {
     "iopub.execute_input": "2024-12-23T16:59:50.778452Z",
     "iopub.status.busy": "2024-12-23T16:59:50.777557Z",
     "iopub.status.idle": "2024-12-23T16:59:50.888876Z",
     "shell.execute_reply": "2024-12-23T16:59:50.887695Z"
    },
    "papermill": {
     "duration": 0.11963,
     "end_time": "2024-12-23T16:59:50.891504",
     "exception": false,
     "start_time": "2024-12-23T16:59:50.771874",
     "status": "completed"
    },
    "tags": []
   },
   "outputs": [],
   "source": [
    "file_path = '/kaggle/input/house-prices/house-prices.csv'  \n",
    "p = pd.read_csv(file_path)\n",
    "\n"
   ]
  },
  {
   "cell_type": "code",
   "execution_count": 3,
   "id": "b1f92c35",
   "metadata": {
    "execution": {
     "iopub.execute_input": "2024-12-23T16:59:50.898868Z",
     "iopub.status.busy": "2024-12-23T16:59:50.898505Z",
     "iopub.status.idle": "2024-12-23T16:59:50.918625Z",
     "shell.execute_reply": "2024-12-23T16:59:50.916931Z"
    },
    "papermill": {
     "duration": 0.027862,
     "end_time": "2024-12-23T16:59:50.922392",
     "exception": false,
     "start_time": "2024-12-23T16:59:50.894530",
     "status": "completed"
    },
    "tags": []
   },
   "outputs": [],
   "source": [
    "target= p[\"Price\"]\n",
    "feature = p[[\"SqFt\",\"Bedrooms\",\"Bathrooms\"]]\n",
    "x_train,x_test,y_train,y_test=train_test_split(feature,target,test_size=0.33,shuffle=False)\n"
   ]
  },
  {
   "cell_type": "code",
   "execution_count": 4,
   "id": "8a9a7dd6",
   "metadata": {
    "execution": {
     "iopub.execute_input": "2024-12-23T16:59:50.933352Z",
     "iopub.status.busy": "2024-12-23T16:59:50.932774Z",
     "iopub.status.idle": "2024-12-23T16:59:50.969874Z",
     "shell.execute_reply": "2024-12-23T16:59:50.968499Z"
    },
    "papermill": {
     "duration": 0.045041,
     "end_time": "2024-12-23T16:59:50.972421",
     "exception": false,
     "start_time": "2024-12-23T16:59:50.927380",
     "status": "completed"
    },
    "tags": []
   },
   "outputs": [
    {
     "data": {
      "text/html": [
       "<style>#sk-container-id-1 {color: black;background-color: white;}#sk-container-id-1 pre{padding: 0;}#sk-container-id-1 div.sk-toggleable {background-color: white;}#sk-container-id-1 label.sk-toggleable__label {cursor: pointer;display: block;width: 100%;margin-bottom: 0;padding: 0.3em;box-sizing: border-box;text-align: center;}#sk-container-id-1 label.sk-toggleable__label-arrow:before {content: \"▸\";float: left;margin-right: 0.25em;color: #696969;}#sk-container-id-1 label.sk-toggleable__label-arrow:hover:before {color: black;}#sk-container-id-1 div.sk-estimator:hover label.sk-toggleable__label-arrow:before {color: black;}#sk-container-id-1 div.sk-toggleable__content {max-height: 0;max-width: 0;overflow: hidden;text-align: left;background-color: #f0f8ff;}#sk-container-id-1 div.sk-toggleable__content pre {margin: 0.2em;color: black;border-radius: 0.25em;background-color: #f0f8ff;}#sk-container-id-1 input.sk-toggleable__control:checked~div.sk-toggleable__content {max-height: 200px;max-width: 100%;overflow: auto;}#sk-container-id-1 input.sk-toggleable__control:checked~label.sk-toggleable__label-arrow:before {content: \"▾\";}#sk-container-id-1 div.sk-estimator input.sk-toggleable__control:checked~label.sk-toggleable__label {background-color: #d4ebff;}#sk-container-id-1 div.sk-label input.sk-toggleable__control:checked~label.sk-toggleable__label {background-color: #d4ebff;}#sk-container-id-1 input.sk-hidden--visually {border: 0;clip: rect(1px 1px 1px 1px);clip: rect(1px, 1px, 1px, 1px);height: 1px;margin: -1px;overflow: hidden;padding: 0;position: absolute;width: 1px;}#sk-container-id-1 div.sk-estimator {font-family: monospace;background-color: #f0f8ff;border: 1px dotted black;border-radius: 0.25em;box-sizing: border-box;margin-bottom: 0.5em;}#sk-container-id-1 div.sk-estimator:hover {background-color: #d4ebff;}#sk-container-id-1 div.sk-parallel-item::after {content: \"\";width: 100%;border-bottom: 1px solid gray;flex-grow: 1;}#sk-container-id-1 div.sk-label:hover label.sk-toggleable__label {background-color: #d4ebff;}#sk-container-id-1 div.sk-serial::before {content: \"\";position: absolute;border-left: 1px solid gray;box-sizing: border-box;top: 0;bottom: 0;left: 50%;z-index: 0;}#sk-container-id-1 div.sk-serial {display: flex;flex-direction: column;align-items: center;background-color: white;padding-right: 0.2em;padding-left: 0.2em;position: relative;}#sk-container-id-1 div.sk-item {position: relative;z-index: 1;}#sk-container-id-1 div.sk-parallel {display: flex;align-items: stretch;justify-content: center;background-color: white;position: relative;}#sk-container-id-1 div.sk-item::before, #sk-container-id-1 div.sk-parallel-item::before {content: \"\";position: absolute;border-left: 1px solid gray;box-sizing: border-box;top: 0;bottom: 0;left: 50%;z-index: -1;}#sk-container-id-1 div.sk-parallel-item {display: flex;flex-direction: column;z-index: 1;position: relative;background-color: white;}#sk-container-id-1 div.sk-parallel-item:first-child::after {align-self: flex-end;width: 50%;}#sk-container-id-1 div.sk-parallel-item:last-child::after {align-self: flex-start;width: 50%;}#sk-container-id-1 div.sk-parallel-item:only-child::after {width: 0;}#sk-container-id-1 div.sk-dashed-wrapped {border: 1px dashed gray;margin: 0 0.4em 0.5em 0.4em;box-sizing: border-box;padding-bottom: 0.4em;background-color: white;}#sk-container-id-1 div.sk-label label {font-family: monospace;font-weight: bold;display: inline-block;line-height: 1.2em;}#sk-container-id-1 div.sk-label-container {text-align: center;}#sk-container-id-1 div.sk-container {/* jupyter's `normalize.less` sets `[hidden] { display: none; }` but bootstrap.min.css set `[hidden] { display: none !important; }` so we also need the `!important` here to be able to override the default hidden behavior on the sphinx rendered scikit-learn.org. See: https://github.com/scikit-learn/scikit-learn/issues/21755 */display: inline-block !important;position: relative;}#sk-container-id-1 div.sk-text-repr-fallback {display: none;}</style><div id=\"sk-container-id-1\" class=\"sk-top-container\"><div class=\"sk-text-repr-fallback\"><pre>LinearRegression()</pre><b>In a Jupyter environment, please rerun this cell to show the HTML representation or trust the notebook. <br />On GitHub, the HTML representation is unable to render, please try loading this page with nbviewer.org.</b></div><div class=\"sk-container\" hidden><div class=\"sk-item\"><div class=\"sk-estimator sk-toggleable\"><input class=\"sk-toggleable__control sk-hidden--visually\" id=\"sk-estimator-id-1\" type=\"checkbox\" checked><label for=\"sk-estimator-id-1\" class=\"sk-toggleable__label sk-toggleable__label-arrow\">LinearRegression</label><div class=\"sk-toggleable__content\"><pre>LinearRegression()</pre></div></div></div></div></div>"
      ],
      "text/plain": [
       "LinearRegression()"
      ]
     },
     "execution_count": 4,
     "metadata": {},
     "output_type": "execute_result"
    }
   ],
   "source": [
    "lin_reg=LinearRegression()\n",
    "lin_reg.fit(x_train,y_train)\n"
   ]
  },
  {
   "cell_type": "code",
   "execution_count": 5,
   "id": "faf782a3",
   "metadata": {
    "execution": {
     "iopub.execute_input": "2024-12-23T16:59:50.981773Z",
     "iopub.status.busy": "2024-12-23T16:59:50.981234Z",
     "iopub.status.idle": "2024-12-23T16:59:50.990864Z",
     "shell.execute_reply": "2024-12-23T16:59:50.989767Z"
    },
    "papermill": {
     "duration": 0.016847,
     "end_time": "2024-12-23T16:59:50.993267",
     "exception": false,
     "start_time": "2024-12-23T16:59:50.976420",
     "status": "completed"
    },
    "tags": []
   },
   "outputs": [],
   "source": [
    "y_predict=lin_reg.predict(x_test)\n",
    "mse=mean_squared_error(y_predict,y_test)\n",
    "std_test=np.sqrt(mse)"
   ]
  },
  {
   "cell_type": "code",
   "execution_count": 6,
   "id": "fbc426f2",
   "metadata": {
    "execution": {
     "iopub.execute_input": "2024-12-23T16:59:51.001634Z",
     "iopub.status.busy": "2024-12-23T16:59:51.001100Z",
     "iopub.status.idle": "2024-12-23T16:59:51.017032Z",
     "shell.execute_reply": "2024-12-23T16:59:51.015727Z"
    },
    "papermill": {
     "duration": 0.023035,
     "end_time": "2024-12-23T16:59:51.019531",
     "exception": false,
     "start_time": "2024-12-23T16:59:50.996496",
     "status": "completed"
    },
    "tags": []
   },
   "outputs": [
    {
     "name": "stdout",
     "output_type": "stream",
     "text": [
      "Standard Deviation total: 26868.770370734055 & Standard Deviation Test:21919.174288659113 \n"
     ]
    }
   ],
   "source": [
    "desc = target.describe()\n",
    "std_value = desc['std']\n",
    "print(f\"Standard Deviation total: {std_value} & Standard Deviation Test:{std_test} \")"
   ]
  },
  {
   "cell_type": "markdown",
   "id": "48e6ddfa",
   "metadata": {
    "papermill": {
     "duration": 0.002889,
     "end_time": "2024-12-23T16:59:51.025581",
     "exception": false,
     "start_time": "2024-12-23T16:59:51.022692",
     "status": "completed"
    },
    "tags": []
   },
   "source": [
    "# Result: The closer the standard deviation total and test are, the better"
   ]
  },
  {
   "cell_type": "code",
   "execution_count": 7,
   "id": "ba9cd831",
   "metadata": {
    "execution": {
     "iopub.execute_input": "2024-12-23T16:59:51.034611Z",
     "iopub.status.busy": "2024-12-23T16:59:51.034175Z",
     "iopub.status.idle": "2024-12-23T16:59:51.044817Z",
     "shell.execute_reply": "2024-12-23T16:59:51.043657Z"
    },
    "papermill": {
     "duration": 0.01911,
     "end_time": "2024-12-23T16:59:51.047728",
     "exception": false,
     "start_time": "2024-12-23T16:59:51.028618",
     "status": "completed"
    },
    "tags": []
   },
   "outputs": [
    {
     "name": "stdout",
     "output_type": "stream",
     "text": [
      "The submission file has been created successfully!\n"
     ]
    }
   ],
   "source": [
    "submission = pd.DataFrame({'SalePrice real': y_test, 'SalePrice predict': y_predict})\n",
    "submission.to_csv('/kaggle/working/submission.csv')\n",
    "print(\"The submission file has been created successfully!\")"
   ]
  },
  {
   "cell_type": "code",
   "execution_count": null,
   "id": "f6e5952b",
   "metadata": {
    "papermill": {
     "duration": 0.00486,
     "end_time": "2024-12-23T16:59:51.058056",
     "exception": false,
     "start_time": "2024-12-23T16:59:51.053196",
     "status": "completed"
    },
    "tags": []
   },
   "outputs": [],
   "source": []
  }
 ],
 "metadata": {
  "kaggle": {
   "accelerator": "none",
   "dataSources": [
    {
     "datasetId": 6279465,
     "sourceId": 10168192,
     "sourceType": "datasetVersion"
    }
   ],
   "dockerImageVersionId": 30804,
   "isGpuEnabled": false,
   "isInternetEnabled": false,
   "language": "python",
   "sourceType": "notebook"
  },
  "kernelspec": {
   "display_name": "Python 3",
   "language": "python",
   "name": "python3"
  },
  "language_info": {
   "codemirror_mode": {
    "name": "ipython",
    "version": 3
   },
   "file_extension": ".py",
   "mimetype": "text/x-python",
   "name": "python",
   "nbconvert_exporter": "python",
   "pygments_lexer": "ipython3",
   "version": "3.10.14"
  },
  "papermill": {
   "default_parameters": {},
   "duration": 7.173336,
   "end_time": "2024-12-23T16:59:51.786489",
   "environment_variables": {},
   "exception": null,
   "input_path": "__notebook__.ipynb",
   "output_path": "__notebook__.ipynb",
   "parameters": {},
   "start_time": "2024-12-23T16:59:44.613153",
   "version": "2.6.0"
  }
 },
 "nbformat": 4,
 "nbformat_minor": 5
}
